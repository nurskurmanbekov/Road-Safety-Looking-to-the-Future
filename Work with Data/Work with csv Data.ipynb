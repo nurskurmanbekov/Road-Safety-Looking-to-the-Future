{
 "cells": [
  {
   "cell_type": "code",
   "execution_count": 6,
   "id": "a1a4ed48",
   "metadata": {},
   "outputs": [],
   "source": [
    "import pandas as pd \n",
    "import os "
   ]
  },
  {
   "cell_type": "code",
   "execution_count": 13,
   "id": "eeff913f",
   "metadata": {},
   "outputs": [],
   "source": [
    "file_list = os.listdir(\"C:\\\\Users\\\\99699\\\\Road-Safety-Looking-to-the-Future\\\\New Data\")"
   ]
  },
  {
   "cell_type": "code",
   "execution_count": 14,
   "id": "3a3670af",
   "metadata": {},
   "outputs": [],
   "source": [
    "files_to_combine = [filename for filename in file_list if filename != \"03_04_2019.csv\"]"
   ]
  },
  {
   "cell_type": "code",
   "execution_count": 15,
   "id": "bc91c08f",
   "metadata": {},
   "outputs": [],
   "source": [
    "df = pd.concat([pd.read_csv(os.path.join(\"C:\\\\Users\\\\99699\\\\Road-Safety-Looking-to-the-Future\\\\New Data\", filename)) for filename in files_to_combine], ignore_index=True)"
   ]
  },
  {
   "cell_type": "code",
   "execution_count": 16,
   "id": "cd427067",
   "metadata": {},
   "outputs": [],
   "source": [
    "df.to_csv(\"Rus_Combined_Data.csv\")"
   ]
  },
  {
   "cell_type": "code",
   "execution_count": null,
   "id": "054a8efb",
   "metadata": {},
   "outputs": [],
   "source": []
  },
  {
   "cell_type": "code",
   "execution_count": null,
   "id": "3c27a6a7",
   "metadata": {},
   "outputs": [],
   "source": []
  },
  {
   "cell_type": "code",
   "execution_count": null,
   "id": "c5d4878a",
   "metadata": {},
   "outputs": [],
   "source": []
  }
 ],
 "metadata": {
  "kernelspec": {
   "display_name": "Python 3 (ipykernel)",
   "language": "python",
   "name": "python3"
  },
  "language_info": {
   "codemirror_mode": {
    "name": "ipython",
    "version": 3
   },
   "file_extension": ".py",
   "mimetype": "text/x-python",
   "name": "python",
   "nbconvert_exporter": "python",
   "pygments_lexer": "ipython3",
   "version": "3.10.9"
  }
 },
 "nbformat": 4,
 "nbformat_minor": 5
}
