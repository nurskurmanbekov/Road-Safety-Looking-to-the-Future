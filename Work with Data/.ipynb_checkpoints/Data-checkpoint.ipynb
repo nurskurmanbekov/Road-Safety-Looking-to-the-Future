{
 "cells": [
  {
   "cell_type": "code",
   "execution_count": 68,
   "id": "b5640bde",
   "metadata": {},
   "outputs": [],
   "source": [
    "import pandas as pd\n",
    "import numpy as np\n",
    "import os "
   ]
  },
  {
   "cell_type": "code",
   "execution_count": 69,
   "id": "da04b78d",
   "metadata": {},
   "outputs": [],
   "source": [
    "file_list = os.listdir(\"C:\\\\Users\\\\99699\\\\Road-Safety-Looking-to-the-Future\\\\New Data\")"
   ]
  },
  {
   "cell_type": "code",
   "execution_count": 70,
   "id": "695b0957",
   "metadata": {},
   "outputs": [
    {
     "name": "stdout",
     "output_type": "stream",
     "text": [
      "C:\\Users\\99699\\Road-Safety-Looking-to-the-Future\\New Data\\01_2020.csv\n",
      "C:\\Users\\99699\\Road-Safety-Looking-to-the-Future\\New Data\\01_2021.csv\n",
      "C:\\Users\\99699\\Road-Safety-Looking-to-the-Future\\New Data\\02_2020.csv\n",
      "C:\\Users\\99699\\Road-Safety-Looking-to-the-Future\\New Data\\02_2021.csv\n",
      "C:\\Users\\99699\\Road-Safety-Looking-to-the-Future\\New Data\\03_04_2019.csv\n",
      "C:\\Users\\99699\\Road-Safety-Looking-to-the-Future\\New Data\\03_2020.csv\n",
      "C:\\Users\\99699\\Road-Safety-Looking-to-the-Future\\New Data\\03_2021.csv\n",
      "C:\\Users\\99699\\Road-Safety-Looking-to-the-Future\\New Data\\04_2020.csv\n",
      "C:\\Users\\99699\\Road-Safety-Looking-to-the-Future\\New Data\\04_2021.csv\n",
      "C:\\Users\\99699\\Road-Safety-Looking-to-the-Future\\New Data\\05_2019.csv\n",
      "C:\\Users\\99699\\Road-Safety-Looking-to-the-Future\\New Data\\05_2020.csv\n",
      "C:\\Users\\99699\\Road-Safety-Looking-to-the-Future\\New Data\\06_2019.csv\n",
      "C:\\Users\\99699\\Road-Safety-Looking-to-the-Future\\New Data\\06_2020.csv\n",
      "C:\\Users\\99699\\Road-Safety-Looking-to-the-Future\\New Data\\07_2019.csv\n",
      "C:\\Users\\99699\\Road-Safety-Looking-to-the-Future\\New Data\\07_2020.csv\n",
      "C:\\Users\\99699\\Road-Safety-Looking-to-the-Future\\New Data\\08_2019.csv\n",
      "C:\\Users\\99699\\Road-Safety-Looking-to-the-Future\\New Data\\08_2020.csv\n",
      "C:\\Users\\99699\\Road-Safety-Looking-to-the-Future\\New Data\\09_2019.csv\n",
      "C:\\Users\\99699\\Road-Safety-Looking-to-the-Future\\New Data\\09_2020.csv\n",
      "C:\\Users\\99699\\Road-Safety-Looking-to-the-Future\\New Data\\10_2019.csv\n",
      "C:\\Users\\99699\\Road-Safety-Looking-to-the-Future\\New Data\\10_2020.csv\n",
      "C:\\Users\\99699\\Road-Safety-Looking-to-the-Future\\New Data\\11_2019.csv\n",
      "C:\\Users\\99699\\Road-Safety-Looking-to-the-Future\\New Data\\11_2020.csv\n",
      "C:\\Users\\99699\\Road-Safety-Looking-to-the-Future\\New Data\\12_2019.csv\n",
      "C:\\Users\\99699\\Road-Safety-Looking-to-the-Future\\New Data\\12_2020.csv\n"
     ]
    }
   ],
   "source": [
    "for file_name in file_list:\n",
    "    print(os.path.join(\"C:\\\\Users\\\\99699\\\\Road-Safety-Looking-to-the-Future\\\\New Data\", file_name))"
   ]
  },
  {
   "cell_type": "code",
   "execution_count": 71,
   "id": "f0999609",
   "metadata": {},
   "outputs": [
    {
     "name": "stdout",
     "output_type": "stream",
     "text": [
      "Data successfully loaded into variables data1, data2, ... data25\n"
     ]
    }
   ],
   "source": [
    "import os\n",
    "base_path = \"C:\\\\Users\\\\99699\\\\Road-Safety-Looking-to-the-Future\\\\New Data\"\n",
    "\n",
    "file_paths = [os.path.join(base_path, filename) for filename in os.listdir(base_path)]\n",
    "for i, file_path in enumerate(file_paths, start=1):\n",
    "    exec(f\"data{i} = file_path\")\n",
    "print(f\"Data successfully loaded into variables data1, data2, ... data{len(file_paths)}\")"
   ]
  },
  {
   "cell_type": "code",
   "execution_count": 72,
   "id": "bacf7928",
   "metadata": {},
   "outputs": [],
   "source": [
    "data1 = pd.read_csv(data1)\n",
    "data2 = pd.read_csv(data2)\n",
    "data3 = pd.read_csv(data3)\n",
    "data4 = pd.read_csv(data4)\n",
    "data5 = pd.read_csv(data5)\n",
    "data6 = pd.read_csv(data6)\n",
    "data7 = pd.read_csv(data7)\n",
    "data8 = pd.read_csv(data8)\n",
    "data9 = pd.read_csv(data9)\n",
    "data10 = pd.read_csv(data10)\n",
    "data11 = pd.read_csv(data11)\n",
    "data12 = pd.read_csv(data12)\n",
    "data13 = pd.read_csv(data13)\n",
    "data14 = pd.read_csv(data14)\n",
    "data15 = pd.read_csv(data15)\n",
    "data16 = pd.read_csv(data16)\n",
    "data17 = pd.read_csv(data17)\n",
    "data18 = pd.read_csv(data18)\n",
    "data19 = pd.read_csv(data19)\n",
    "data20 = pd.read_csv(data20)\n",
    "data21 = pd.read_csv(data21)\n",
    "data22 = pd.read_csv(data22)\n",
    "data23 = pd.read_csv(data23)\n",
    "data24 = pd.read_csv(data24)\n",
    "data25 = pd.read_csv(data25)"
   ]
  },
  {
   "cell_type": "code",
   "execution_count": 73,
   "id": "dd834eb6",
   "metadata": {},
   "outputs": [],
   "source": [
    "def print_columns(data):\n",
    "  # Check if data is a DataFrame\n",
    "  if isinstance(data, pd.DataFrame):\n",
    "    print(f\"Columns for data:\\n{data.head(1)}\")\n",
    "  else:\n",
    "    print(f\"Data is not a pandas DataFrame\")"
   ]
  },
  {
   "cell_type": "code",
   "execution_count": 74,
   "id": "3108ce47",
   "metadata": {},
   "outputs": [
    {
     "data": {
      "text/html": [
       "<div>\n",
       "<style scoped>\n",
       "    .dataframe tbody tr th:only-of-type {\n",
       "        vertical-align: middle;\n",
       "    }\n",
       "\n",
       "    .dataframe tbody tr th {\n",
       "        vertical-align: top;\n",
       "    }\n",
       "\n",
       "    .dataframe thead th {\n",
       "        text-align: right;\n",
       "    }\n",
       "</style>\n",
       "<table border=\"1\" class=\"dataframe\">\n",
       "  <thead>\n",
       "    <tr style=\"text-align: right;\">\n",
       "      <th></th>\n",
       "      <th>id</th>\n",
       "      <th>car_brand</th>\n",
       "      <th>car_model</th>\n",
       "      <th>violation_date</th>\n",
       "      <th>crossroad_name</th>\n",
       "      <th>violation_protocol_name</th>\n",
       "      <th>violation_ammount</th>\n",
       "    </tr>\n",
       "  </thead>\n",
       "  <tbody>\n",
       "    <tr>\n",
       "      <th>0</th>\n",
       "      <td>212472</td>\n",
       "      <td>BMW</td>\n",
       "      <td>550</td>\n",
       "      <td>2019-06-01 00:02:15.000</td>\n",
       "      <td>г.Бишкек Путепровод по ул.Ибраимова</td>\n",
       "      <td>Нарушение «превышение скорости» свыше 20 км/ч,...</td>\n",
       "      <td>3000</td>\n",
       "    </tr>\n",
       "    <tr>\n",
       "      <th>1</th>\n",
       "      <td>36302</td>\n",
       "      <td>LEXUS</td>\n",
       "      <td>RX 400</td>\n",
       "      <td>2019-06-01 00:10:39.000</td>\n",
       "      <td>г.Бишкек Путепровод по ул.Ибраимова</td>\n",
       "      <td>Нарушение «превышение скорости» свыше 20 км/ч,...</td>\n",
       "      <td>3000</td>\n",
       "    </tr>\n",
       "    <tr>\n",
       "      <th>2</th>\n",
       "      <td>35364</td>\n",
       "      <td>VOLKSWAGEN</td>\n",
       "      <td>GOLF III</td>\n",
       "      <td>2019-06-01 00:28:01.000</td>\n",
       "      <td>г. Бишкек, пересечение улиц Чуй - Шопокова</td>\n",
       "      <td>Невыполнение требований ПДД об остановке перед...</td>\n",
       "      <td>3000</td>\n",
       "    </tr>\n",
       "    <tr>\n",
       "      <th>3</th>\n",
       "      <td>40658</td>\n",
       "      <td>TOYOTA</td>\n",
       "      <td>WINDOM</td>\n",
       "      <td>2019-06-01 00:35:33.000</td>\n",
       "      <td>г. Бишкек, пересечение улиц Чуй - Шопокова</td>\n",
       "      <td>Невыполнение требований ПДД об остановке перед...</td>\n",
       "      <td>3000</td>\n",
       "    </tr>\n",
       "    <tr>\n",
       "      <th>4</th>\n",
       "      <td>48039</td>\n",
       "      <td>TOYOTA</td>\n",
       "      <td>CAMRY</td>\n",
       "      <td>2019-06-01 00:35:33.000</td>\n",
       "      <td>г. Бишкек, пересечение улиц Чуй - Шопокова</td>\n",
       "      <td>Невыполнение требований ПДД об остановке перед...</td>\n",
       "      <td>3000</td>\n",
       "    </tr>\n",
       "  </tbody>\n",
       "</table>\n",
       "</div>"
      ],
      "text/plain": [
       "       id   car_brand car_model           violation_date  \\\n",
       "0  212472         BMW       550  2019-06-01 00:02:15.000   \n",
       "1   36302       LEXUS    RX 400  2019-06-01 00:10:39.000   \n",
       "2   35364  VOLKSWAGEN  GOLF III  2019-06-01 00:28:01.000   \n",
       "3   40658      TOYOTA    WINDOM  2019-06-01 00:35:33.000   \n",
       "4   48039      TOYOTA     CAMRY  2019-06-01 00:35:33.000   \n",
       "\n",
       "                               crossroad_name  \\\n",
       "0         г.Бишкек Путепровод по ул.Ибраимова   \n",
       "1         г.Бишкек Путепровод по ул.Ибраимова   \n",
       "2  г. Бишкек, пересечение улиц Чуй - Шопокова   \n",
       "3  г. Бишкек, пересечение улиц Чуй - Шопокова   \n",
       "4  г. Бишкек, пересечение улиц Чуй - Шопокова   \n",
       "\n",
       "                             violation_protocol_name  violation_ammount  \n",
       "0  Нарушение «превышение скорости» свыше 20 км/ч,...               3000  \n",
       "1  Нарушение «превышение скорости» свыше 20 км/ч,...               3000  \n",
       "2  Невыполнение требований ПДД об остановке перед...               3000  \n",
       "3  Невыполнение требований ПДД об остановке перед...               3000  \n",
       "4  Невыполнение требований ПДД об остановке перед...               3000  "
      ]
     },
     "execution_count": 74,
     "metadata": {},
     "output_type": "execute_result"
    }
   ],
   "source": [
    "data12.head()"
   ]
  },
  {
   "cell_type": "code",
   "execution_count": 75,
   "id": "83e4afd3",
   "metadata": {},
   "outputs": [],
   "source": [
    "data_combined = pd.concat([data1,data2,data3,data4,data5,data6,data7,data8,data9,data10,data11,data12,data13,data14,data15,data16,data17,data18,data19,data20,data21,data22,data23,data24,data25])"
   ]
  },
  {
   "cell_type": "code",
   "execution_count": 76,
   "id": "05f3a0c0",
   "metadata": {},
   "outputs": [
    {
     "data": {
      "text/html": [
       "<div>\n",
       "<style scoped>\n",
       "    .dataframe tbody tr th:only-of-type {\n",
       "        vertical-align: middle;\n",
       "    }\n",
       "\n",
       "    .dataframe tbody tr th {\n",
       "        vertical-align: top;\n",
       "    }\n",
       "\n",
       "    .dataframe thead th {\n",
       "        text-align: right;\n",
       "    }\n",
       "</style>\n",
       "<table border=\"1\" class=\"dataframe\">\n",
       "  <thead>\n",
       "    <tr style=\"text-align: right;\">\n",
       "      <th></th>\n",
       "      <th>id</th>\n",
       "      <th>car_brand</th>\n",
       "      <th>car_model</th>\n",
       "      <th>violation_date</th>\n",
       "      <th>crossroad_name</th>\n",
       "      <th>violation_protocol_name</th>\n",
       "      <th>violation_ammount</th>\n",
       "    </tr>\n",
       "  </thead>\n",
       "  <tbody>\n",
       "    <tr>\n",
       "      <th>0</th>\n",
       "      <td>35648046</td>\n",
       "      <td>TOYOTA</td>\n",
       "      <td>SEQUOIA</td>\n",
       "      <td>1/1/2020 0:03</td>\n",
       "      <td>А/д Бишкек - Торугарт. г. Кемин. 102 км.</td>\n",
       "      <td>Превышение установленной скорости движения на ...</td>\n",
       "      <td>3000</td>\n",
       "    </tr>\n",
       "    <tr>\n",
       "      <th>1</th>\n",
       "      <td>35648049</td>\n",
       "      <td>MITSUBISHI</td>\n",
       "      <td>COLT</td>\n",
       "      <td>1/1/2020 0:06</td>\n",
       "      <td>А/д Бишкек - Аэропорт «Манас». АЗС Ак-Жол, 23 км</td>\n",
       "      <td>Превышение установленной скорости движения на ...</td>\n",
       "      <td>3000</td>\n",
       "    </tr>\n",
       "    <tr>\n",
       "      <th>2</th>\n",
       "      <td>35648071</td>\n",
       "      <td>HYUNDAI</td>\n",
       "      <td>ELANTRA</td>\n",
       "      <td>1/1/2020 0:20</td>\n",
       "      <td>А/д Биш. Торугарт, 20км.,  с. Люксембург</td>\n",
       "      <td>Превышение установленной скорости движения на ...</td>\n",
       "      <td>3000</td>\n",
       "    </tr>\n",
       "    <tr>\n",
       "      <th>3</th>\n",
       "      <td>35648091</td>\n",
       "      <td>MERCEDES-BENZ</td>\n",
       "      <td>SPRINTER 311</td>\n",
       "      <td>1/1/2020 0:15</td>\n",
       "      <td>г. Бишкек, пересечение пр. Чуй - ул. Ю.Абдрахм...</td>\n",
       "      <td>Невыполнение требований ПДД об остановке перед...</td>\n",
       "      <td>1000</td>\n",
       "    </tr>\n",
       "    <tr>\n",
       "      <th>4</th>\n",
       "      <td>35648093</td>\n",
       "      <td>MERCEDES-BENZ</td>\n",
       "      <td>E 240</td>\n",
       "      <td>1/1/2020 0:17</td>\n",
       "      <td>г. Бишкек, пересечение ул. Ю.Абдрахманова - ул...</td>\n",
       "      <td>Невыполнение требований ПДД об остановке перед...</td>\n",
       "      <td>1000</td>\n",
       "    </tr>\n",
       "  </tbody>\n",
       "</table>\n",
       "</div>"
      ],
      "text/plain": [
       "         id      car_brand     car_model violation_date  \\\n",
       "0  35648046         TOYOTA       SEQUOIA  1/1/2020 0:03   \n",
       "1  35648049     MITSUBISHI          COLT  1/1/2020 0:06   \n",
       "2  35648071        HYUNDAI       ELANTRA  1/1/2020 0:20   \n",
       "3  35648091  MERCEDES-BENZ  SPRINTER 311  1/1/2020 0:15   \n",
       "4  35648093  MERCEDES-BENZ         E 240  1/1/2020 0:17   \n",
       "\n",
       "                                      crossroad_name  \\\n",
       "0           А/д Бишкек - Торугарт. г. Кемин. 102 км.   \n",
       "1   А/д Бишкек - Аэропорт «Манас». АЗС Ак-Жол, 23 км   \n",
       "2           А/д Биш. Торугарт, 20км.,  с. Люксембург   \n",
       "3  г. Бишкек, пересечение пр. Чуй - ул. Ю.Абдрахм...   \n",
       "4  г. Бишкек, пересечение ул. Ю.Абдрахманова - ул...   \n",
       "\n",
       "                             violation_protocol_name  violation_ammount  \n",
       "0  Превышение установленной скорости движения на ...               3000  \n",
       "1  Превышение установленной скорости движения на ...               3000  \n",
       "2  Превышение установленной скорости движения на ...               3000  \n",
       "3  Невыполнение требований ПДД об остановке перед...               1000  \n",
       "4  Невыполнение требований ПДД об остановке перед...               1000  "
      ]
     },
     "execution_count": 76,
     "metadata": {},
     "output_type": "execute_result"
    }
   ],
   "source": [
    "data_combined.head()"
   ]
  },
  {
   "cell_type": "code",
   "execution_count": 77,
   "id": "5e8296bc",
   "metadata": {},
   "outputs": [],
   "source": [
    "data_combined.to_csv(\"RUS_combined_data.csv\")"
   ]
  },
  {
   "cell_type": "code",
   "execution_count": null,
   "id": "3f0ab17b",
   "metadata": {},
   "outputs": [],
   "source": []
  },
  {
   "cell_type": "code",
   "execution_count": null,
   "id": "0e24f879",
   "metadata": {},
   "outputs": [],
   "source": []
  },
  {
   "cell_type": "code",
   "execution_count": null,
   "id": "2c937822",
   "metadata": {},
   "outputs": [],
   "source": []
  },
  {
   "cell_type": "code",
   "execution_count": null,
   "id": "7712ded9",
   "metadata": {},
   "outputs": [],
   "source": []
  },
  {
   "cell_type": "code",
   "execution_count": null,
   "id": "d6080aed",
   "metadata": {},
   "outputs": [],
   "source": []
  },
  {
   "cell_type": "code",
   "execution_count": null,
   "id": "3ac91b5b",
   "metadata": {},
   "outputs": [],
   "source": []
  },
  {
   "cell_type": "code",
   "execution_count": null,
   "id": "b0d18c24",
   "metadata": {},
   "outputs": [],
   "source": []
  }
 ],
 "metadata": {
  "kernelspec": {
   "display_name": "Python 3 (ipykernel)",
   "language": "python",
   "name": "python3"
  },
  "language_info": {
   "codemirror_mode": {
    "name": "ipython",
    "version": 3
   },
   "file_extension": ".py",
   "mimetype": "text/x-python",
   "name": "python",
   "nbconvert_exporter": "python",
   "pygments_lexer": "ipython3",
   "version": "3.10.9"
  }
 },
 "nbformat": 4,
 "nbformat_minor": 5
}
