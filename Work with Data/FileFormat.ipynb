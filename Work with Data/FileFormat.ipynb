{
 "cells": [
  {
   "cell_type": "code",
   "execution_count": null,
   "id": "9d2a60b6",
   "metadata": {},
   "outputs": [],
   "source": [
    "import pandas as pd \n",
    "import numpy as np \n",
    "import os"
   ]
  },
  {
   "cell_type": "code",
   "execution_count": 38,
   "id": "e1b29d40",
   "metadata": {},
   "outputs": [],
   "source": [
    "folder_path = \"C:\\\\Users\\\\99699\\\\Road-Safety-Looking-to-the-Future\\\\Old Data\"\n",
    "new_data_folder_path = \"C:\\\\Users\\\\99699\\\\Road-Safety-Looking-to-the-Future\\\\New Data\""
   ]
  },
  {
   "cell_type": "code",
   "execution_count": 40,
   "id": "7e2d4f6b",
   "metadata": {},
   "outputs": [
    {
     "name": "stdout",
     "output_type": "stream",
     "text": [
      "Все файлы успешно сохранены в папку C:\\Users\\99699\\Road-Safety-Looking-to-the-Future\\New Data\n"
     ]
    }
   ],
   "source": [
    "for filename in os.listdir(folder_path):\n",
    "    if not filename.startswith(\".\"):\n",
    "        df = pd.read_excel(os.path.join(folder_path, filename))\n",
    "        new_file_path = os.path.join(new_data_folder_path, filename.replace(\".xlsx\", \".csv\"))\n",
    "        df.to_csv(new_file_path)\n",
    "\n",
    "print(f\"Все файлы успешно сохранены в папку {new_data_folder_path}\")\n"
   ]
  },
  {
   "cell_type": "code",
   "execution_count": 42,
   "id": "4085ae63",
   "metadata": {},
   "outputs": [
    {
     "name": "stdout",
     "output_type": "stream",
     "text": [
      "Finish\n"
     ]
    }
   ],
   "source": [
    "for filename in os.listdir(new_data_folder_path):\n",
    "    if filename.endswith(\".csv\"):\n",
    "        with open(os.path.join(new_data_folder_path, filename), \"rb\") as f:\n",
    "            df = pd.read_csv(f, encoding=\"utf-8\")\n",
    "        with open(os.path.join(new_data_folder_path, filename), \"w\", encoding=\"utf-8\") as f:\n",
    "            df.to_csv(f)\n",
    "print(\"Finish\")"
   ]
  },
  {
   "cell_type": "code",
   "execution_count": null,
   "id": "d7b656d7",
   "metadata": {},
   "outputs": [],
   "source": []
  },
  {
   "cell_type": "code",
   "execution_count": null,
   "id": "f89251f9",
   "metadata": {},
   "outputs": [],
   "source": []
  },
  {
   "cell_type": "code",
   "execution_count": null,
   "id": "8d9e8bba",
   "metadata": {},
   "outputs": [],
   "source": []
  },
  {
   "cell_type": "code",
   "execution_count": null,
   "id": "4387149f",
   "metadata": {},
   "outputs": [],
   "source": []
  },
  {
   "cell_type": "code",
   "execution_count": null,
   "id": "329895fb",
   "metadata": {},
   "outputs": [],
   "source": []
  }
 ],
 "metadata": {
  "kernelspec": {
   "display_name": "Python 3 (ipykernel)",
   "language": "python",
   "name": "python3"
  },
  "language_info": {
   "codemirror_mode": {
    "name": "ipython",
    "version": 3
   },
   "file_extension": ".py",
   "mimetype": "text/x-python",
   "name": "python",
   "nbconvert_exporter": "python",
   "pygments_lexer": "ipython3",
   "version": "3.10.9"
  }
 },
 "nbformat": 4,
 "nbformat_minor": 5
}
