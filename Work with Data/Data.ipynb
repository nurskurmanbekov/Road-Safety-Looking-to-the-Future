{
 "cells": [
  {
   "cell_type": "code",
   "execution_count": 1,
   "id": "b5640bde",
   "metadata": {},
   "outputs": [],
   "source": [
    "import pandas as pd\n",
    "import numpy as np\n",
    "import os "
   ]
  },
  {
   "cell_type": "code",
   "execution_count": 3,
   "id": "da04b78d",
   "metadata": {},
   "outputs": [],
   "source": [
    "file_list = os.listdir(\"C:\\\\Users\\\\99699\\\\Road-Safety-Looking-to-the-Future\\\\New Data\")"
   ]
  },
  {
   "cell_type": "code",
   "execution_count": 5,
   "id": "695b0957",
   "metadata": {},
   "outputs": [
    {
     "name": "stdout",
     "output_type": "stream",
     "text": [
      "C:\\Users\\99699\\Road-Safety-Looking-to-the-Future\\New Data\\01_2020.csv\n",
      "C:\\Users\\99699\\Road-Safety-Looking-to-the-Future\\New Data\\01_2021.csv\n",
      "C:\\Users\\99699\\Road-Safety-Looking-to-the-Future\\New Data\\02_2020.csv\n",
      "C:\\Users\\99699\\Road-Safety-Looking-to-the-Future\\New Data\\02_2021.csv\n",
      "C:\\Users\\99699\\Road-Safety-Looking-to-the-Future\\New Data\\03_04_2019.csv\n",
      "C:\\Users\\99699\\Road-Safety-Looking-to-the-Future\\New Data\\03_2020.csv\n",
      "C:\\Users\\99699\\Road-Safety-Looking-to-the-Future\\New Data\\03_2021.csv\n",
      "C:\\Users\\99699\\Road-Safety-Looking-to-the-Future\\New Data\\04_2020.csv\n",
      "C:\\Users\\99699\\Road-Safety-Looking-to-the-Future\\New Data\\04_2021.csv\n",
      "C:\\Users\\99699\\Road-Safety-Looking-to-the-Future\\New Data\\05_2019.csv\n",
      "C:\\Users\\99699\\Road-Safety-Looking-to-the-Future\\New Data\\05_2020.csv\n",
      "C:\\Users\\99699\\Road-Safety-Looking-to-the-Future\\New Data\\06_2019.csv\n",
      "C:\\Users\\99699\\Road-Safety-Looking-to-the-Future\\New Data\\06_2020.csv\n",
      "C:\\Users\\99699\\Road-Safety-Looking-to-the-Future\\New Data\\07_2019.csv\n",
      "C:\\Users\\99699\\Road-Safety-Looking-to-the-Future\\New Data\\07_2020.csv\n",
      "C:\\Users\\99699\\Road-Safety-Looking-to-the-Future\\New Data\\08_2019.csv\n",
      "C:\\Users\\99699\\Road-Safety-Looking-to-the-Future\\New Data\\08_2020.csv\n",
      "C:\\Users\\99699\\Road-Safety-Looking-to-the-Future\\New Data\\09_2019.csv\n",
      "C:\\Users\\99699\\Road-Safety-Looking-to-the-Future\\New Data\\09_2020.csv\n",
      "C:\\Users\\99699\\Road-Safety-Looking-to-the-Future\\New Data\\10_2019.csv\n",
      "C:\\Users\\99699\\Road-Safety-Looking-to-the-Future\\New Data\\10_2020.csv\n",
      "C:\\Users\\99699\\Road-Safety-Looking-to-the-Future\\New Data\\11_2019.csv\n",
      "C:\\Users\\99699\\Road-Safety-Looking-to-the-Future\\New Data\\11_2020.csv\n",
      "C:\\Users\\99699\\Road-Safety-Looking-to-the-Future\\New Data\\12_2019.csv\n",
      "C:\\Users\\99699\\Road-Safety-Looking-to-the-Future\\New Data\\12_2020.csv\n"
     ]
    }
   ],
   "source": [
    "for file_name in file_list:\n",
    "    print(os.path.join(\"C:\\\\Users\\\\99699\\\\Road-Safety-Looking-to-the-Future\\\\New Data\", file_name))"
   ]
  },
  {
   "cell_type": "code",
   "execution_count": 18,
   "id": "f0999609",
   "metadata": {},
   "outputs": [
    {
     "name": "stdout",
     "output_type": "stream",
     "text": [
      "Data successfully loaded into variables data1, data2, ... data25\n"
     ]
    }
   ],
   "source": [
    "import os\n",
    "base_path = \"C:\\\\Users\\\\99699\\\\Road-Safety-Looking-to-the-Future\\\\New Data\"\n",
    "\n",
    "file_paths = [os.path.join(base_path, filename) for filename in os.listdir(base_path)]\n",
    "for i, file_path in enumerate(file_paths, start=1):\n",
    "    exec(f\"data{i} = file_path\")\n",
    "print(f\"Data successfully loaded into variables data1, data2, ... data{len(file_paths)}\")"
   ]
  },
  {
   "cell_type": "code",
   "execution_count": 19,
   "id": "bacf7928",
   "metadata": {},
   "outputs": [],
   "source": [
    "data1 = pd.read_csv(data1)\n",
    "data2 = pd.read_csv(data2)\n",
    "data3 = pd.read_csv(data3)\n",
    "data4 = pd.read_csv(data4)\n",
    "data5 = pd.read_csv(data5)\n",
    "data6 = pd.read_csv(data6)\n",
    "data7 = pd.read_csv(data7)\n",
    "data8 = pd.read_csv(data8)\n",
    "data9 = pd.read_csv(data9)\n",
    "data10 = pd.read_csv(data10)\n",
    "data11 = pd.read_csv(data11)\n",
    "data12 = pd.read_csv(data12)\n",
    "data13 = pd.read_csv(data13)\n",
    "data14 = pd.read_csv(data14)\n",
    "data15 = pd.read_csv(data15)\n",
    "data16 = pd.read_csv(data16)\n",
    "data17 = pd.read_csv(data17)\n",
    "data18 = pd.read_csv(data18)\n",
    "data19 = pd.read_csv(data19)\n",
    "data20 = pd.read_csv(data20)\n",
    "data21 = pd.read_csv(data21)\n",
    "data22 = pd.read_csv(data22)\n",
    "data23 = pd.read_csv(data23)\n",
    "data24 = pd.read_csv(data24)\n",
    "data25 = pd.read_csv(data25)"
   ]
  },
  {
   "cell_type": "code",
   "execution_count": 27,
   "id": "dd834eb6",
   "metadata": {},
   "outputs": [],
   "source": [
    "def print_columns(data):\n",
    "  # Check if data is a DataFrame\n",
    "  if isinstance(data, pd.DataFrame):\n",
    "    print(f\"Columns for data:\\n{data.columns}\")\n",
    "  else:\n",
    "    print(f\"Data is not a pandas DataFrame\")"
   ]
  },
  {
   "cell_type": "code",
   "execution_count": 28,
   "id": "3b0bcd4d",
   "metadata": {},
   "outputs": [
    {
     "name": "stdout",
     "output_type": "stream",
     "text": [
      "Columns for data:\n",
      "Index(['id', 'car_brand', 'car_model', 'violation_date', 'crossroad_name',\n",
      "       'violation_protocol_name', 'violation_ammount'],\n",
      "      dtype='object')\n",
      "Columns for data:\n",
      "Index(['id', 'car_brand', 'car_model', 'violation_date', 'crossroad_name',\n",
      "       'violation_protocol_name', 'violation_ammount'],\n",
      "      dtype='object')\n",
      "Columns for data:\n",
      "Index(['id', 'car_brand', 'car_model', 'violation_date', 'crossroad_name',\n",
      "       'violation_protocol_name', 'violation_ammount'],\n",
      "      dtype='object')\n",
      "Columns for data:\n",
      "Index(['id', 'car_brand', 'car_model', 'violation_date', 'crossroad_name',\n",
      "       'violation_protocol_name', 'violation_ammount'],\n",
      "      dtype='object')\n",
      "Columns for data:\n",
      "Index(['id ТС', 'Бренд ТС', 'Модель ТС', 'Дата нарушения', 'Пересечение',\n",
      "       'Наименование нарушения', 'Сумма нарушения', 'Статус оплаты',\n",
      "       'Дата оплаты', 'Сумма оплаты'],\n",
      "      dtype='object')\n",
      "Columns for data:\n",
      "Index(['id', 'car_brand', 'car_model', 'violation_date', 'crossroad_name',\n",
      "       'violation_protocol_name', 'violation_ammount'],\n",
      "      dtype='object')\n",
      "Columns for data:\n",
      "Index(['id', 'car_brand', 'car_model', 'violation_date', 'crossroad_name',\n",
      "       'violation_protocol_name', 'violation_ammount'],\n",
      "      dtype='object')\n",
      "Columns for data:\n",
      "Index(['id', 'car_brand', 'car_model', 'violation_date', 'crossroad_name',\n",
      "       'violation_protocol_name', 'violation_ammount'],\n",
      "      dtype='object')\n",
      "Columns for data:\n",
      "Index(['id', 'car_brand', 'car_model', 'violation_date', 'crossroad_name',\n",
      "       'violation_protocol_name', 'violation_ammount'],\n",
      "      dtype='object')\n",
      "Columns for data:\n",
      "Index(['id ТС', 'Бренд ТС', 'Модель ТС', 'Дата нарушения', 'Пересечение',\n",
      "       'Наименование нарушения', 'Сумма нарушения', 'Статус оплаты',\n",
      "       'Дата оплаты', 'Сумма оплаты'],\n",
      "      dtype='object')\n",
      "Columns for data:\n",
      "Index(['id', 'car_brand', 'car_model', 'violation_date', 'crossroad_name',\n",
      "       'violation_protocol_name', 'violation_ammount'],\n",
      "      dtype='object')\n",
      "Columns for data:\n",
      "Index(['id ТС', 'Бренд ТС', 'Модель ТС', 'Дата нарушения', 'Пересечение',\n",
      "       'Наименование нарушения', 'Сумма нарушения', 'Статус оплаты',\n",
      "       'Дата оплаты', 'Сумма оплаты'],\n",
      "      dtype='object')\n",
      "Columns for data:\n",
      "Index(['id', 'car_brand', 'car_model', 'violation_date', 'crossroad_name',\n",
      "       'violation_protocol_name', 'violation_ammount'],\n",
      "      dtype='object')\n",
      "Columns for data:\n",
      "Index(['id ТС', 'Бренд ТС', 'Модель ТС', 'Дата нарушения', 'Пересечение',\n",
      "       'Наименование нарушения', 'Сумма нарушения', 'Статус оплаты',\n",
      "       'Дата оплаты', 'Сумма оплаты'],\n",
      "      dtype='object')\n",
      "Columns for data:\n",
      "Index(['id', 'car_brand', 'car_model', 'violation_date', 'crossroad_name',\n",
      "       'violation_protocol_name', 'violation_ammount'],\n",
      "      dtype='object')\n",
      "Columns for data:\n",
      "Index(['id ТС', 'Бренд ТС', 'Модель ТС', 'Дата нарушения', 'Пересечение',\n",
      "       'Наименование нарушения', 'Сумма нарушения', 'Статус оплаты',\n",
      "       'Дата оплаты', 'Сумма оплаты'],\n",
      "      dtype='object')\n",
      "Columns for data:\n",
      "Index(['id', 'car_brand', 'car_model', 'violation_date', 'crossroad_name',\n",
      "       'violation_protocol_name', 'violation_ammount'],\n",
      "      dtype='object')\n",
      "Columns for data:\n",
      "Index(['id', 'car_brand', 'car_model', 'violation_date', 'crossroad_name',\n",
      "       'violation_protocol_name', 'violation_ammount'],\n",
      "      dtype='object')\n",
      "Columns for data:\n",
      "Index(['id', 'car_brand', 'car_model', 'violation_date', 'crossroad_name',\n",
      "       'violation_protocol_name', 'violation_ammount'],\n",
      "      dtype='object')\n",
      "Columns for data:\n",
      "Index(['id', 'car_brand', 'car_model', 'violation_date', 'crossroad_name',\n",
      "       'violation_protocol_name', 'violation_ammount'],\n",
      "      dtype='object')\n",
      "Columns for data:\n",
      "Index(['id', 'car_brand', 'car_model', 'violation_date', 'crossroad_name',\n",
      "       'violation_protocol_name', 'violation_ammount'],\n",
      "      dtype='object')\n",
      "Columns for data:\n",
      "Index(['id', 'car_brand', 'car_model', 'violation_date', 'crossroad_name',\n",
      "       'violation_protocol_name', 'violation_ammount'],\n",
      "      dtype='object')\n",
      "Columns for data:\n",
      "Index(['id', 'car_brand', 'car_model', 'violation_date', 'crossroad_name',\n",
      "       'violation_protocol_name', 'violation_ammount'],\n",
      "      dtype='object')\n",
      "Columns for data:\n",
      "Index(['id', 'car_brand', 'car_model', 'violation_date', 'crossroad_name',\n",
      "       'violation_protocol_name', 'violation_ammount'],\n",
      "      dtype='object')\n",
      "Columns for data:\n",
      "Index(['id', 'car_brand', 'car_model', 'violation_date', 'crossroad_name',\n",
      "       'violation_protocol_name', 'violation_ammount'],\n",
      "      dtype='object')\n"
     ]
    }
   ],
   "source": [
    "print_columns(data1)\n",
    "print_columns(data2)\n",
    "print_columns(data3)\n",
    "print_columns(data4)\n",
    "print_columns(data5)\n",
    "print_columns(data6)\n",
    "print_columns(data7)\n",
    "print_columns(data8)\n",
    "print_columns(data9)\n",
    "print_columns(data10)\n",
    "print_columns(data11)\n",
    "print_columns(data12)\n",
    "print_columns(data13)\n",
    "print_columns(data14)\n",
    "print_columns(data15)\n",
    "print_columns(data16)\n",
    "print_columns(data17)\n",
    "print_columns(data18)\n",
    "print_columns(data19)\n",
    "print_columns(data20)\n",
    "print_columns(data21)\n",
    "print_columns(data22)\n",
    "print_columns(data23)\n",
    "print_columns(data24)\n",
    "print_columns(data25)"
   ]
  },
  {
   "cell_type": "code",
   "execution_count": null,
   "id": "83e4afd3",
   "metadata": {},
   "outputs": [],
   "source": [
    "data1 = pd.concat([data1,data2, data3,data4,data6,data])"
   ]
  },
  {
   "cell_type": "code",
   "execution_count": null,
   "id": "05f3a0c0",
   "metadata": {},
   "outputs": [],
   "source": []
  },
  {
   "cell_type": "code",
   "execution_count": null,
   "id": "5e8296bc",
   "metadata": {},
   "outputs": [],
   "source": []
  },
  {
   "cell_type": "code",
   "execution_count": null,
   "id": "3f0ab17b",
   "metadata": {},
   "outputs": [],
   "source": []
  },
  {
   "cell_type": "code",
   "execution_count": null,
   "id": "0e24f879",
   "metadata": {},
   "outputs": [],
   "source": []
  },
  {
   "cell_type": "code",
   "execution_count": null,
   "id": "2c937822",
   "metadata": {},
   "outputs": [],
   "source": []
  },
  {
   "cell_type": "code",
   "execution_count": null,
   "id": "7712ded9",
   "metadata": {},
   "outputs": [],
   "source": []
  },
  {
   "cell_type": "code",
   "execution_count": null,
   "id": "d6080aed",
   "metadata": {},
   "outputs": [],
   "source": []
  },
  {
   "cell_type": "code",
   "execution_count": null,
   "id": "3ac91b5b",
   "metadata": {},
   "outputs": [],
   "source": []
  },
  {
   "cell_type": "code",
   "execution_count": null,
   "id": "b0d18c24",
   "metadata": {},
   "outputs": [],
   "source": []
  }
 ],
 "metadata": {
  "kernelspec": {
   "display_name": "Python 3 (ipykernel)",
   "language": "python",
   "name": "python3"
  },
  "language_info": {
   "codemirror_mode": {
    "name": "ipython",
    "version": 3
   },
   "file_extension": ".py",
   "mimetype": "text/x-python",
   "name": "python",
   "nbconvert_exporter": "python",
   "pygments_lexer": "ipython3",
   "version": "3.10.9"
  }
 },
 "nbformat": 4,
 "nbformat_minor": 5
}
