{
 "cells": [
  {
   "cell_type": "code",
   "execution_count": 2,
   "id": "365a68ea",
   "metadata": {},
   "outputs": [],
   "source": [
    "import pandas as pd "
   ]
  },
  {
   "cell_type": "markdown",
   "id": "9ae193aa",
   "metadata": {},
   "source": [
    "## Идентификация наиболее распространенных типов нарушений. Это поможет выявить наиболее серьезные проблемы в области безопасности дорожного движения"
   ]
  },
  {
   "cell_type": "markdown",
   "id": "3cec9a74",
   "metadata": {},
   "source": [
    "## Identification of the most common types of violations. This will help to identify the most serious road safety problems"
   ]
  },
  {
   "cell_type": "code",
   "execution_count": 3,
   "id": "b8d9e288",
   "metadata": {},
   "outputs": [],
   "source": [
    "file_path = \"C:\\\\Users\\\\99699\\\\Road-Safety-Looking-to-the-Future\\\\Full Finish Data RU\\\\RUS_combined_data.csv\""
   ]
  },
  {
   "cell_type": "code",
   "execution_count": 5,
   "id": "deadb35a",
   "metadata": {},
   "outputs": [],
   "source": [
    "df = pd.read_csv(file_path)"
   ]
  },
  {
   "cell_type": "code",
   "execution_count": 6,
   "id": "5617c7c3",
   "metadata": {},
   "outputs": [
    {
     "data": {
      "text/plain": [
       "Index(['Unnamed: 0', 'id', 'car_brand', 'car_model', 'violation_date',\n",
       "       'crossroad_name', 'violation_protocol_name', 'violation_ammount'],\n",
       "      dtype='object')"
      ]
     },
     "execution_count": 6,
     "metadata": {},
     "output_type": "execute_result"
    }
   ],
   "source": [
    "df.columns"
   ]
  },
  {
   "cell_type": "code",
   "execution_count": 7,
   "id": "21251a0d",
   "metadata": {},
   "outputs": [],
   "source": [
    "violation_types = df[\"violation_protocol_name\"].unique()"
   ]
  },
  {
   "cell_type": "code",
   "execution_count": 8,
   "id": "7c6d1ace",
   "metadata": {},
   "outputs": [
    {
     "data": {
      "text/plain": [
       "array(['Превышение установленной скорости движения на величину свыше 20км/ч, но не более 40 км/ч',\n",
       "       'Невыполнение требований ПДД об остановке перед стоп-линией, обозначенной дорожным знаком или разметкой проезжей части, при запрещающем сигнале светофора или жесте регулировщика',\n",
       "       'Превышение установленной скорости движения на величину свыше 10км/ч, но не более 20 км/ч',\n",
       "       'Нарушение требований разметки проезжей части дороги',\n",
       "       'Невыполнение требований дорожных знаков',\n",
       "       'Проезд на запрещенный сигнал светофора, либо жест регулировщика',\n",
       "       'Нарушение правил обгона или маневрирования с выездом на полосу встречного движения',\n",
       "       'Превышение установленной скорости движения на величину свыше 40км/ч, но не более 60 км/ч',\n",
       "       'Превышение установленной скорости движения на величину более 60км/ч',\n",
       "       'Нарушение правил маневрирования',\n",
       "       'Нарушение правил остановки или стоянки, в том числе остановка или стоянка на полосе для маршрутных транспортных средств',\n",
       "       'Не выполнение требований дорожных знаков либо разметки проезжей части дороги',\n",
       "       'Нарушение требований дорожных знаков',\n",
       "       'Нарушение правил обгона или маневрирования без выезда на полосу встречного движения',\n",
       "       'Нарушение «превышение скорости» свыше 40 км/ч, но не более 60 км/ч',\n",
       "       'Нарушение «превышение скорости» свыше 20 км/ч, но не более 40 км/ч',\n",
       "       'Нарушение «превышение скорости» свыше 60 км/ч',\n",
       "       'Нарушение «превышение скорости» свыше 10 км/ч, но не более 20 км/ч',\n",
       "       'Нарушение правил остановки либо стоянки',\n",
       "       'Нарушение правил проезда пешеходных переходов, движение по тротуарам'],\n",
       "      dtype=object)"
      ]
     },
     "execution_count": 8,
     "metadata": {},
     "output_type": "execute_result"
    }
   ],
   "source": [
    "violation_types"
   ]
  },
  {
   "cell_type": "code",
   "execution_count": 9,
   "id": "5cdc134c",
   "metadata": {},
   "outputs": [],
   "source": [
    "violation_counts = {}"
   ]
  },
  {
   "cell_type": "code",
   "execution_count": 10,
   "id": "f763e0c5",
   "metadata": {},
   "outputs": [],
   "source": [
    "for violation_type in violation_types:\n",
    "    violation_counts[violation_type] = len(df[df[\"violation_protocol_name\"] == violation_type])"
   ]
  },
  {
   "cell_type": "code",
   "execution_count": 11,
   "id": "c76ac587",
   "metadata": {},
   "outputs": [],
   "source": [
    "violation_counts = sorted(violation_counts.items(), key = lambda x : x[1], reverse = True)"
   ]
  },
  {
   "cell_type": "code",
   "execution_count": 13,
   "id": "7dd884e5",
   "metadata": {},
   "outputs": [
    {
     "name": "stdout",
     "output_type": "stream",
     "text": [
      "Превышение установленной скорости движения на величину свыше 10км/ч, но не более 20 км/ч : 897934\n",
      "Невыполнение требований дорожных знаков : 294253\n",
      "Нарушение требований разметки проезжей части дороги : 271635\n",
      "Превышение установленной скорости движения на величину свыше 20км/ч, но не более 40 км/ч : 252421\n",
      "Нарушение «превышение скорости» свыше 10 км/ч, но не более 20 км/ч : 200461\n",
      "Невыполнение требований ПДД об остановке перед стоп-линией, обозначенной дорожным знаком или разметкой проезжей части, при запрещающем сигнале светофора или жесте регулировщика : 182203\n",
      "Нарушение «превышение скорости» свыше 20 км/ч, но не более 40 км/ч : 94919\n",
      "Нарушение правил обгона или маневрирования с выездом на полосу встречного движения : 68506\n",
      "Проезд на запрещенный сигнал светофора, либо жест регулировщика : 36826\n",
      "Превышение установленной скорости движения на величину свыше 40км/ч, но не более 60 км/ч : 20875\n",
      "Нарушение правил маневрирования : 19718\n",
      "Нарушение «превышение скорости» свыше 40 км/ч, но не более 60 км/ч : 7595\n",
      "Нарушение правил остановки или стоянки, в том числе остановка или стоянка на полосе для маршрутных транспортных средств : 2528\n",
      "Превышение установленной скорости движения на величину более 60км/ч : 2062\n",
      "Нарушение правил остановки либо стоянки : 1579\n",
      "Нарушение «превышение скорости» свыше 60 км/ч : 765\n",
      "Нарушение правил проезда пешеходных переходов, движение по тротуарам : 43\n",
      "Не выполнение требований дорожных знаков либо разметки проезжей части дороги : 37\n",
      "Нарушение требований дорожных знаков : 26\n",
      "Нарушение правил обгона или маневрирования без выезда на полосу встречного движения : 6\n"
     ]
    }
   ],
   "source": [
    "for violation_type, count in violation_counts:\n",
    "    print(f\"{violation_type} : {count}\")"
   ]
  },
  {
   "cell_type": "code",
   "execution_count": null,
   "id": "80274147",
   "metadata": {},
   "outputs": [],
   "source": []
  },
  {
   "cell_type": "code",
   "execution_count": null,
   "id": "a324a2f6",
   "metadata": {},
   "outputs": [],
   "source": []
  },
  {
   "cell_type": "code",
   "execution_count": null,
   "id": "df4906dd",
   "metadata": {},
   "outputs": [],
   "source": []
  },
  {
   "cell_type": "code",
   "execution_count": null,
   "id": "f21b83fd",
   "metadata": {},
   "outputs": [],
   "source": []
  },
  {
   "cell_type": "code",
   "execution_count": null,
   "id": "09872dc0",
   "metadata": {},
   "outputs": [],
   "source": []
  },
  {
   "cell_type": "code",
   "execution_count": null,
   "id": "bd708b63",
   "metadata": {},
   "outputs": [],
   "source": []
  }
 ],
 "metadata": {
  "kernelspec": {
   "display_name": "Python 3 (ipykernel)",
   "language": "python",
   "name": "python3"
  },
  "language_info": {
   "codemirror_mode": {
    "name": "ipython",
    "version": 3
   },
   "file_extension": ".py",
   "mimetype": "text/x-python",
   "name": "python",
   "nbconvert_exporter": "python",
   "pygments_lexer": "ipython3",
   "version": "3.10.9"
  }
 },
 "nbformat": 4,
 "nbformat_minor": 5
}
